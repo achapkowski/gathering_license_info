{
 "cells": [
  {
   "cell_type": "markdown",
   "metadata": {},
   "source": [
    "## Catalog User Groups"
   ]
  },
  {
   "cell_type": "markdown",
   "metadata": {},
   "source": [
    "Administrators of organizations often need to catalog not only data but groups as well.  The `gis.users.user_groups` allows administrators to examine ever user's groups in one call.  \n",
    "\n",
    "This snippet will show how you can create and easy method to gather and write out all the associated group information to a CSV file.\n"
   ]
  },
  {
   "cell_type": "markdown",
   "metadata": {
    "heading_collapsed": true
   },
   "source": [
    "### Setup the Environment"
   ]
  },
  {
   "cell_type": "code",
   "execution_count": null,
   "metadata": {
    "hidden": true
   },
   "outputs": [],
   "source": [
    "import csv\n",
    "from arcgis.gis import GIS\n",
    "from typing import Iterator"
   ]
  },
  {
   "cell_type": "code",
   "execution_count": null,
   "metadata": {
    "hidden": true
   },
   "outputs": [],
   "source": [
    "gis = GIS(profile='your_online_profile', verify_cert=False)"
   ]
  },
  {
   "cell_type": "markdown",
   "metadata": {
    "heading_collapsed": true
   },
   "source": [
    "### Collect the Usernames"
   ]
  },
  {
   "cell_type": "markdown",
   "metadata": {
    "hidden": true
   },
   "source": [
    "Since we are only concerned about the usernames and nothing else, use the `advanced_search` on the `UserManager` to quickly gather the information we need."
   ]
  },
  {
   "cell_type": "code",
   "execution_count": null,
   "metadata": {
    "hidden": true
   },
   "outputs": [],
   "source": [
    "def username_chunks(gis:GIS, n:int=None) -> Iterator:\n",
    "    \"\"\"\n",
    "    Collects the Usernames and Gathers the User Groups \n",
    "    \n",
    "    :returns: Iterator[Dict]\n",
    "    \"\"\"\n",
    "    if n is None:\n",
    "        n = 20\n",
    "    usernames = [user['username'] \\\n",
    "         for user in gis.users.advanced_search(\n",
    "            f\"orgid: {gis.properties.id}\", \n",
    "            max_users=-1, \n",
    "            as_dict=True)['results']\n",
    "    ]\n",
    "    for i in range(0, len(usernames), n): \n",
    "        res = [dict(zip([\"username\", \"total\", \"groups\"], \n",
    "                   [record['username'], record['total'],  \",\".join([grp['id'] for grp in record['groups']])])) \\\n",
    "          for record in gis.users.user_groups(usernames[i:i + n], -1)]\n",
    "        yield res"
   ]
  },
  {
   "cell_type": "markdown",
   "metadata": {
    "heading_collapsed": true
   },
   "source": [
    "### Get the User Groups"
   ]
  },
  {
   "cell_type": "code",
   "execution_count": null,
   "metadata": {
    "hidden": true
   },
   "outputs": [],
   "source": [
    "\n",
    "with open('./user_group_info.csv', 'w', newline='') as f:\n",
    "    writer = csv.DictWriter(f, fieldnames=['username', 'total', 'groups'])\n",
    "    writer.writeheader()\n",
    "    for c in username_chunks(gis, 20):\n",
    "        writer.writerows(c)"
   ]
  },
  {
   "cell_type": "code",
   "execution_count": null,
   "metadata": {
    "hidden": true
   },
   "outputs": [],
   "source": [
    "import pandas as pd\n",
    "pd.read_csv('./user_group_info.csv')"
   ]
  },
  {
   "cell_type": "code",
   "execution_count": null,
   "metadata": {
    "hidden": true
   },
   "outputs": [],
   "source": []
  }
 ],
 "metadata": {
  "kernelspec": {
   "display_name": "Python 3",
   "language": "python",
   "name": "python3"
  },
  "language_info": {
   "codemirror_mode": {
    "name": "ipython",
    "version": 3
   },
   "file_extension": ".py",
   "mimetype": "text/x-python",
   "name": "python",
   "nbconvert_exporter": "python",
   "pygments_lexer": "ipython3",
   "version": "3.7.9"
  }
 },
 "nbformat": 4,
 "nbformat_minor": 4
}
